{
 "cells": [
  {
   "cell_type": "code",
   "execution_count": 3,
   "metadata": {
    "execution": {
     "iopub.execute_input": "2025-06-25T13:11:46.051895Z",
     "iopub.status.busy": "2025-06-25T13:11:46.051019Z",
     "iopub.status.idle": "2025-06-25T13:11:53.129651Z",
     "shell.execute_reply": "2025-06-25T13:11:53.129027Z",
     "shell.execute_reply.started": "2025-06-25T13:11:46.051826Z"
    },
    "trusted": true
   },
   "outputs": [],
   "source": [
    "from datasets import load_dataset\n",
    "from collections import Counter\n",
    "import re\n",
    "import torch\n",
    "from torch.utils.data import Dataset, DataLoader\n",
    "import torch\n",
    "import torch.nn as nn\n",
    "import torch.optim as optim"
   ]
  },
  {
   "cell_type": "code",
   "execution_count": 4,
   "metadata": {
    "execution": {
     "iopub.execute_input": "2025-06-25T13:11:53.131336Z",
     "iopub.status.busy": "2025-06-25T13:11:53.130868Z",
     "iopub.status.idle": "2025-06-25T13:11:57.248888Z",
     "shell.execute_reply": "2025-06-25T13:11:57.248337Z",
     "shell.execute_reply.started": "2025-06-25T13:11:53.131315Z"
    },
    "trusted": true
   },
   "outputs": [
    {
     "data": {
      "application/vnd.jupyter.widget-view+json": {
       "model_id": "42db228afa43453f9abc792a75074a11",
       "version_major": 2,
       "version_minor": 0
      },
      "text/plain": [
       "README.md: 0.00B [00:00, ?B/s]"
      ]
     },
     "metadata": {},
     "output_type": "display_data"
    },
    {
     "data": {
      "application/vnd.jupyter.widget-view+json": {
       "model_id": "8b38b64b1fa34f67be99a51a22e3293a",
       "version_major": 2,
       "version_minor": 0
      },
      "text/plain": [
       "train-00000-of-00001.parquet:   0%|          | 0.00/21.0M [00:00<?, ?B/s]"
      ]
     },
     "metadata": {},
     "output_type": "display_data"
    },
    {
     "data": {
      "application/vnd.jupyter.widget-view+json": {
       "model_id": "2b65acf200de40fdbe277279fbfa9b84",
       "version_major": 2,
       "version_minor": 0
      },
      "text/plain": [
       "test-00000-of-00001.parquet:   0%|          | 0.00/20.5M [00:00<?, ?B/s]"
      ]
     },
     "metadata": {},
     "output_type": "display_data"
    },
    {
     "data": {
      "application/vnd.jupyter.widget-view+json": {
       "model_id": "677a8e1f86d24bfeae24acd8553a679f",
       "version_major": 2,
       "version_minor": 0
      },
      "text/plain": [
       "unsupervised-00000-of-00001.parquet:   0%|          | 0.00/42.0M [00:00<?, ?B/s]"
      ]
     },
     "metadata": {},
     "output_type": "display_data"
    },
    {
     "data": {
      "application/vnd.jupyter.widget-view+json": {
       "model_id": "b002fadd9ecc41e68ce1f594dbe3d310",
       "version_major": 2,
       "version_minor": 0
      },
      "text/plain": [
       "Generating train split:   0%|          | 0/25000 [00:00<?, ? examples/s]"
      ]
     },
     "metadata": {},
     "output_type": "display_data"
    },
    {
     "data": {
      "application/vnd.jupyter.widget-view+json": {
       "model_id": "14a5b057d0394076820022c6549206f5",
       "version_major": 2,
       "version_minor": 0
      },
      "text/plain": [
       "Generating test split:   0%|          | 0/25000 [00:00<?, ? examples/s]"
      ]
     },
     "metadata": {},
     "output_type": "display_data"
    },
    {
     "data": {
      "application/vnd.jupyter.widget-view+json": {
       "model_id": "3bcd10b62c484539adb5c003a50f0c5e",
       "version_major": 2,
       "version_minor": 0
      },
      "text/plain": [
       "Generating unsupervised split:   0%|          | 0/50000 [00:00<?, ? examples/s]"
      ]
     },
     "metadata": {},
     "output_type": "display_data"
    }
   ],
   "source": [
    "dataset = load_dataset(\"imdb\")\n",
    "train_data=dataset[\"train\"]\n",
    "test_data=dataset[\"test\"]"
   ]
  },
  {
   "cell_type": "code",
   "execution_count": 5,
   "metadata": {
    "execution": {
     "iopub.execute_input": "2025-06-25T13:11:57.250222Z",
     "iopub.status.busy": "2025-06-25T13:11:57.249687Z",
     "iopub.status.idle": "2025-06-25T13:11:57.255788Z",
     "shell.execute_reply": "2025-06-25T13:11:57.255090Z",
     "shell.execute_reply.started": "2025-06-25T13:11:57.250193Z"
    },
    "trusted": true
   },
   "outputs": [
    {
     "data": {
      "text/plain": [
       "{'text': 'I rented I AM CURIOUS-YELLOW from my video store because of all the controversy that surrounded it when it was first released in 1967. I also heard that at first it was seized by U.S. customs if it ever tried to enter this country, therefore being a fan of films considered \"controversial\" I really had to see this for myself.<br /><br />The plot is centered around a young Swedish drama student named Lena who wants to learn everything she can about life. In particular she wants to focus her attentions to making some sort of documentary on what the average Swede thought about certain political issues such as the Vietnam War and race issues in the United States. In between asking politicians and ordinary denizens of Stockholm about their opinions on politics, she has sex with her drama teacher, classmates, and married men.<br /><br />What kills me about I AM CURIOUS-YELLOW is that 40 years ago, this was considered pornographic. Really, the sex and nudity scenes are few and far between, even then it\\'s not shot like some cheaply made porno. While my countrymen mind find it shocking, in reality sex and nudity are a major staple in Swedish cinema. Even Ingmar Bergman, arguably their answer to good old boy John Ford, had sex scenes in his films.<br /><br />I do commend the filmmakers for the fact that any sex shown in the film is shown for artistic purposes rather than just to shock people and make money to be shown in pornographic theaters in America. I AM CURIOUS-YELLOW is a good film for anyone wanting to study the meat and potatoes (no pun intended) of Swedish cinema. But really, this film doesn\\'t have much of a plot.',\n",
       " 'label': 0}"
      ]
     },
     "execution_count": 5,
     "metadata": {},
     "output_type": "execute_result"
    }
   ],
   "source": [
    "train_data[0]"
   ]
  },
  {
   "cell_type": "markdown",
   "metadata": {},
   "source": [
    "# Build vocab"
   ]
  },
  {
   "cell_type": "code",
   "execution_count": 6,
   "metadata": {
    "execution": {
     "iopub.execute_input": "2025-06-25T13:12:01.953589Z",
     "iopub.status.busy": "2025-06-25T13:12:01.953032Z",
     "iopub.status.idle": "2025-06-25T13:12:05.718663Z",
     "shell.execute_reply": "2025-06-25T13:12:05.718101Z",
     "shell.execute_reply.started": "2025-06-25T13:12:01.953567Z"
    },
    "trusted": true
   },
   "outputs": [],
   "source": [
    "def tokenize(text):\n",
    "    return re.findall(r\"\\b\\w+\\b\", text.lower())\n",
    "\n",
    "all_tokens = []\n",
    "for sample in train_data:\n",
    "    all_tokens.extend(tokenize(sample[\"text\"]))\n",
    "\n",
    "token_freq = Counter(all_tokens)\n",
    "\n",
    "vocab_size = 10000\n",
    "most_common = token_freq.most_common(vocab_size - 4)\n",
    "\n",
    "vocab = {\n",
    "    \"<PAD>\": 0,\n",
    "    \"<UNK>\": 1,\n",
    "    \"<CLS>\": 2,\n",
    "    \"<SEP>\": 3\n",
    "}\n",
    "\n",
    "for idx, (word, _) in enumerate(most_common, start=4):\n",
    "    vocab[word] = idx\n",
    "\n",
    "inv_vocab = {v: k for k, v in vocab.items()}"
   ]
  },
  {
   "cell_type": "markdown",
   "metadata": {},
   "source": [
    "# Tokenization"
   ]
  },
  {
   "cell_type": "code",
   "execution_count": 7,
   "metadata": {
    "execution": {
     "iopub.execute_input": "2025-06-25T13:12:08.938150Z",
     "iopub.status.busy": "2025-06-25T13:12:08.937816Z",
     "iopub.status.idle": "2025-06-25T13:12:08.942809Z",
     "shell.execute_reply": "2025-06-25T13:12:08.942122Z",
     "shell.execute_reply.started": "2025-06-25T13:12:08.938127Z"
    },
    "trusted": true
   },
   "outputs": [],
   "source": [
    "def encode(text, max_len=128):\n",
    "    tokens = tokenize(text)\n",
    "    token_ids = [vocab.get(tok, vocab[\"<UNK>\"]) for tok in tokens]\n",
    "    token_ids = [vocab[\"<CLS>\"]] + token_ids[:max_len - 2] + [vocab[\"<SEP>\"]]\n",
    "    \n",
    "    pad_len = max_len - len(token_ids)\n",
    "    token_ids += [vocab[\"<PAD>\"]] * pad_len\n",
    "    return token_ids"
   ]
  },
  {
   "cell_type": "code",
   "execution_count": 8,
   "metadata": {
    "execution": {
     "iopub.execute_input": "2025-06-25T13:12:09.070098Z",
     "iopub.status.busy": "2025-06-25T13:12:09.069279Z",
     "iopub.status.idle": "2025-06-25T13:12:09.076244Z",
     "shell.execute_reply": "2025-06-25T13:12:09.075172Z",
     "shell.execute_reply.started": "2025-06-25T13:12:09.070061Z"
    },
    "trusted": true
   },
   "outputs": [],
   "source": [
    "class IMDBDataset(Dataset):\n",
    "    def __init__(self, split):\n",
    "        self.data = dataset[split]\n",
    "\n",
    "    def __len__(self):\n",
    "        return len(self.data)\n",
    "\n",
    "    def __getitem__(self, idx):\n",
    "        text = self.data[idx][\"text\"]\n",
    "        label = self.data[idx][\"label\"]\n",
    "        token_ids = encode(text)\n",
    "        return torch.tensor(token_ids), torch.tensor(label)\n",
    "\n",
    "# Create loaders\n",
    "train_set = IMDBDataset(\"train\")\n",
    "test_set = IMDBDataset(\"test\")\n",
    "\n",
    "train_loader = DataLoader(train_set, batch_size=32, shuffle=True)\n",
    "test_loader = DataLoader(test_set, batch_size=32)"
   ]
  },
  {
   "cell_type": "markdown",
   "metadata": {},
   "source": [
    "# Encoder"
   ]
  },
  {
   "cell_type": "code",
   "execution_count": 9,
   "metadata": {
    "execution": {
     "iopub.execute_input": "2025-06-25T13:12:10.638480Z",
     "iopub.status.busy": "2025-06-25T13:12:10.638200Z",
     "iopub.status.idle": "2025-06-25T13:12:10.644189Z",
     "shell.execute_reply": "2025-06-25T13:12:10.643528Z",
     "shell.execute_reply.started": "2025-06-25T13:12:10.638460Z"
    },
    "trusted": true
   },
   "outputs": [],
   "source": [
    "class TransformerEncoderBlock(nn.Module):\n",
    "    def __init__(self, embed_dim, num_heads, ff_dim, dropout=0.1):\n",
    "        super().__init__()\n",
    "        self.attention = nn.MultiheadAttention(embed_dim, num_heads, dropout=dropout, batch_first=True)\n",
    "        \n",
    "        self.ff = nn.Sequential(\n",
    "            nn.Linear(embed_dim, ff_dim),\n",
    "            nn.ReLU(),\n",
    "            nn.Linear(ff_dim, embed_dim)\n",
    "        )\n",
    "        \n",
    "        self.norm1 = nn.LayerNorm(embed_dim)\n",
    "        self.norm2 = nn.LayerNorm(embed_dim)\n",
    "        self.dropout = nn.Dropout(dropout)\n",
    "\n",
    "    def forward(self, x, attn_mask=None):\n",
    "        # Multi-head self-attention\n",
    "        attn_output, _ = self.attention(x, x, x, attn_mask=attn_mask)\n",
    "        x = self.norm1(x + self.dropout(attn_output))\n",
    "        \n",
    "        # Feed-forward\n",
    "        ff_output = self.ff(x)\n",
    "        x = self.norm2(x + self.dropout(ff_output))\n",
    "        \n",
    "        return x\n"
   ]
  },
  {
   "cell_type": "code",
   "execution_count": 10,
   "metadata": {
    "execution": {
     "iopub.execute_input": "2025-06-25T13:12:10.787035Z",
     "iopub.status.busy": "2025-06-25T13:12:10.786767Z",
     "iopub.status.idle": "2025-06-25T13:12:10.793287Z",
     "shell.execute_reply": "2025-06-25T13:12:10.792616Z",
     "shell.execute_reply.started": "2025-06-25T13:12:10.787017Z"
    },
    "trusted": true
   },
   "outputs": [],
   "source": [
    "class SentimentTransformer(nn.Module):\n",
    "    def __init__(self, vocab_size, max_len, embed_dim, num_heads, ff_dim, num_layers, num_classes):\n",
    "        super().__init__()\n",
    "        self.token_embed = nn.Embedding(vocab_size, embed_dim)\n",
    "        self.pos_embed = nn.Parameter(torch.randn(1, max_len, embed_dim))\n",
    "        \n",
    "        self.encoder_blocks = nn.Sequential(\n",
    "            *[TransformerEncoderBlock(embed_dim, num_heads, ff_dim) for _ in range(num_layers)]\n",
    "        )\n",
    "        \n",
    "        self.pool = nn.AdaptiveAvgPool1d(1)  # Mean pooling over tokens\n",
    "        self.classifier = nn.Linear(embed_dim, num_classes)\n",
    "\n",
    "    def forward(self, x):\n",
    "        # x: (batch_size, seq_len)\n",
    "        token_emb = self.token_embed(x)                    # (B, L, D)\n",
    "        x = token_emb + self.pos_embed[:, :x.size(1), :]   # (B, L, D)\n",
    "        x = self.encoder_blocks(x)                         # (B, L, D)\n",
    "        \n",
    "        x = x.permute(0, 2, 1)                             # (B, D, L) for pooling\n",
    "        x = self.pool(x).squeeze(-1)                       # (B, D)\n",
    "        return self.classifier(x)                          # (B, num_classes)"
   ]
  },
  {
   "cell_type": "markdown",
   "metadata": {},
   "source": [
    "# Loss, Optimizer, Device"
   ]
  },
  {
   "cell_type": "code",
   "execution_count": 11,
   "metadata": {
    "execution": {
     "iopub.execute_input": "2025-06-25T13:12:12.474687Z",
     "iopub.status.busy": "2025-06-25T13:12:12.474399Z",
     "iopub.status.idle": "2025-06-25T13:12:16.333380Z",
     "shell.execute_reply": "2025-06-25T13:12:16.332696Z",
     "shell.execute_reply.started": "2025-06-25T13:12:12.474666Z"
    },
    "trusted": true
   },
   "outputs": [],
   "source": [
    "device = torch.device(\"cuda\" if torch.cuda.is_available() else \"cpu\")\n",
    "\n",
    "embed_dim = 128\n",
    "num_heads = 4\n",
    "ff_dim = 256\n",
    "num_layers = 5\n",
    "num_classes = 2\n",
    "max_len = 128\n",
    "\n",
    "model = SentimentTransformer(\n",
    "    vocab_size=len(vocab),\n",
    "    max_len=max_len,\n",
    "    embed_dim=embed_dim,\n",
    "    num_heads=num_heads,\n",
    "    ff_dim=ff_dim,\n",
    "    num_layers=num_layers,\n",
    "    num_classes=num_classes\n",
    ").to(device)\n",
    "\n",
    "# Loss and optimizer\n",
    "criterion = nn.CrossEntropyLoss()\n",
    "optimizer = optim.Adam(model.parameters(), lr=3e-4)"
   ]
  },
  {
   "cell_type": "code",
   "execution_count": 12,
   "metadata": {
    "execution": {
     "iopub.execute_input": "2025-06-25T13:12:23.491715Z",
     "iopub.status.busy": "2025-06-25T13:12:23.490710Z",
     "iopub.status.idle": "2025-06-25T13:12:23.499579Z",
     "shell.execute_reply": "2025-06-25T13:12:23.498898Z",
     "shell.execute_reply.started": "2025-06-25T13:12:23.491684Z"
    },
    "trusted": true
   },
   "outputs": [],
   "source": [
    "from tqdm import tqdm\n",
    "\n",
    "def train_one_epoch(model, loader, criterion, optimizer):\n",
    "    model.train()\n",
    "    total_loss = 0\n",
    "    correct = 0\n",
    "    total = 0\n",
    "    \n",
    "    for inputs, labels in tqdm(loader):\n",
    "        inputs, labels = inputs.to(device), labels.to(device)\n",
    "        \n",
    "        outputs = model(inputs)\n",
    "        loss = criterion(outputs, labels)\n",
    "        \n",
    "        optimizer.zero_grad()\n",
    "        loss.backward()\n",
    "        optimizer.step()\n",
    "        \n",
    "        total_loss += loss.item()\n",
    "        preds = outputs.argmax(dim=1)\n",
    "        correct += (preds == labels).sum().item()\n",
    "        total += labels.size(0)\n",
    "        \n",
    "    accuracy = correct / total\n",
    "    avg_loss = total_loss / len(loader)\n",
    "    return avg_loss, accuracy\n",
    "\n",
    "def evaluate(model, loader, criterion):\n",
    "    model.eval()\n",
    "    total_loss = 0\n",
    "    correct = 0\n",
    "    total = 0\n",
    "    \n",
    "    with torch.no_grad():\n",
    "        for inputs, labels in loader:\n",
    "            inputs, labels = inputs.to(device), labels.to(device)\n",
    "            outputs = model(inputs)\n",
    "            loss = criterion(outputs, labels)\n",
    "            \n",
    "            total_loss += loss.item()\n",
    "            preds = outputs.argmax(dim=1)\n",
    "            correct += (preds == labels).sum().item()\n",
    "            total += labels.size(0)\n",
    "            \n",
    "    accuracy = correct / total\n",
    "    avg_loss = total_loss / len(loader)\n",
    "    return avg_loss, accuracy"
   ]
  },
  {
   "cell_type": "code",
   "execution_count": 13,
   "metadata": {
    "execution": {
     "iopub.execute_input": "2025-06-25T13:12:26.384633Z",
     "iopub.status.busy": "2025-06-25T13:12:26.384351Z",
     "iopub.status.idle": "2025-06-25T13:14:28.762098Z",
     "shell.execute_reply": "2025-06-25T13:14:28.761312Z",
     "shell.execute_reply.started": "2025-06-25T13:12:26.384614Z"
    },
    "trusted": true
   },
   "outputs": [
    {
     "name": "stdout",
     "output_type": "stream",
     "text": [
      "\n",
      "Epoch 1/4\n"
     ]
    },
    {
     "name": "stderr",
     "output_type": "stream",
     "text": [
      "100%|██████████| 782/782 [00:21<00:00, 36.58it/s]\n"
     ]
    },
    {
     "name": "stdout",
     "output_type": "stream",
     "text": [
      "Train Loss: 0.5828, Accuracy: 0.6826\n",
      "Val   Loss: 0.4918, Accuracy: 0.7575\n",
      "\n",
      "Epoch 2/4\n"
     ]
    },
    {
     "name": "stderr",
     "output_type": "stream",
     "text": [
      "100%|██████████| 782/782 [00:19<00:00, 40.12it/s]\n"
     ]
    },
    {
     "name": "stdout",
     "output_type": "stream",
     "text": [
      "Train Loss: 0.4474, Accuracy: 0.7892\n",
      "Val   Loss: 0.4608, Accuracy: 0.7802\n",
      "\n",
      "Epoch 3/4\n"
     ]
    },
    {
     "name": "stderr",
     "output_type": "stream",
     "text": [
      "100%|██████████| 782/782 [00:19<00:00, 39.68it/s]\n"
     ]
    },
    {
     "name": "stdout",
     "output_type": "stream",
     "text": [
      "Train Loss: 0.3804, Accuracy: 0.8308\n",
      "Val   Loss: 0.4601, Accuracy: 0.7959\n",
      "\n",
      "Epoch 4/4\n"
     ]
    },
    {
     "name": "stderr",
     "output_type": "stream",
     "text": [
      "100%|██████████| 782/782 [00:19<00:00, 39.58it/s]\n"
     ]
    },
    {
     "name": "stdout",
     "output_type": "stream",
     "text": [
      "Train Loss: 0.3249, Accuracy: 0.8613\n",
      "Val   Loss: 0.4641, Accuracy: 0.7926\n"
     ]
    }
   ],
   "source": [
    "num_epochs = 4\n",
    "for epoch in range(num_epochs):\n",
    "    print(f\"\\nEpoch {epoch + 1}/{num_epochs}\")\n",
    "    \n",
    "    train_loss, train_acc = train_one_epoch(model, train_loader, criterion, optimizer)\n",
    "    val_loss, val_acc = evaluate(model, test_loader, criterion)\n",
    "    \n",
    "    print(f\"Train Loss: {train_loss:.4f}, Accuracy: {train_acc:.4f}\")\n",
    "    print(f\"Val   Loss: {val_loss:.4f}, Accuracy: {val_acc:.4f}\")\n"
   ]
  },
  {
   "cell_type": "code",
   "execution_count": 14,
   "metadata": {
    "execution": {
     "iopub.execute_input": "2025-06-25T13:14:37.721308Z",
     "iopub.status.busy": "2025-06-25T13:14:37.720510Z",
     "iopub.status.idle": "2025-06-25T13:14:37.754017Z",
     "shell.execute_reply": "2025-06-25T13:14:37.753216Z",
     "shell.execute_reply.started": "2025-06-25T13:14:37.721274Z"
    },
    "trusted": true
   },
   "outputs": [],
   "source": [
    "save_path = \"/kaggle/working/best_model.pth\"\n",
    "torch.save(model.state_dict(), \"sentiment_transformer.pth\")"
   ]
  },
  {
   "cell_type": "code",
   "execution_count": 15,
   "metadata": {
    "execution": {
     "iopub.execute_input": "2025-06-25T13:14:57.441403Z",
     "iopub.status.busy": "2025-06-25T13:14:57.440694Z",
     "iopub.status.idle": "2025-06-25T13:14:57.446811Z",
     "shell.execute_reply": "2025-06-25T13:14:57.445911Z",
     "shell.execute_reply.started": "2025-06-25T13:14:57.441376Z"
    },
    "trusted": true
   },
   "outputs": [
    {
     "data": {
      "text/plain": [
       "'def count_parameters(model):\\n    return sum(p.numel() for p in model.parameters() if p.requires_grad)\\n\\nprint(f\"Trainable parameters: {count_parameters(model):,}\")'"
      ]
     },
     "execution_count": 15,
     "metadata": {},
     "output_type": "execute_result"
    }
   ],
   "source": [
    "'''def count_parameters(model):\n",
    "    return sum(p.numel() for p in model.parameters() if p.requires_grad)\n",
    "\n",
    "print(f\"Trainable parameters: {count_parameters(model):,}\")'''"
   ]
  },
  {
   "cell_type": "code",
   "execution_count": 16,
   "metadata": {
    "execution": {
     "iopub.execute_input": "2025-06-25T13:14:59.001989Z",
     "iopub.status.busy": "2025-06-25T13:14:59.001691Z",
     "iopub.status.idle": "2025-06-25T13:15:10.845503Z",
     "shell.execute_reply": "2025-06-25T13:15:10.844906Z",
     "shell.execute_reply.started": "2025-06-25T13:14:59.001968Z"
    },
    "trusted": true
   },
   "outputs": [],
   "source": [
    "from sklearn.metrics import confusion_matrix, classification_report\n",
    "import numpy as np\n",
    "\n",
    "all_preds = []\n",
    "all_labels = []\n",
    "\n",
    "model.eval()\n",
    "with torch.no_grad():\n",
    "    for inputs, labels in test_loader:\n",
    "        inputs, labels = inputs.to(device), labels.to(device)\n",
    "        outputs = model(inputs)\n",
    "        preds = torch.argmax(outputs, dim=1)\n",
    "\n",
    "        all_preds.extend(preds.cpu().numpy())\n",
    "        all_labels.extend(labels.cpu().numpy())"
   ]
  },
  {
   "cell_type": "code",
   "execution_count": 17,
   "metadata": {
    "execution": {
     "iopub.execute_input": "2025-06-25T13:15:16.189829Z",
     "iopub.status.busy": "2025-06-25T13:15:16.188928Z",
     "iopub.status.idle": "2025-06-25T13:15:16.541375Z",
     "shell.execute_reply": "2025-06-25T13:15:16.540594Z",
     "shell.execute_reply.started": "2025-06-25T13:15:16.189806Z"
    },
    "trusted": true
   },
   "outputs": [
    {
     "name": "stdout",
     "output_type": "stream",
     "text": [
      "Confusion Matrix:\n",
      "[[ 8931  3569]\n",
      " [ 1615 10885]]\n",
      "\n",
      "Classification Report:\n",
      "              precision    recall  f1-score   support\n",
      "\n",
      "    Negative       0.85      0.71      0.78     12500\n",
      "    Positive       0.75      0.87      0.81     12500\n",
      "\n",
      "    accuracy                           0.79     25000\n",
      "   macro avg       0.80      0.79      0.79     25000\n",
      "weighted avg       0.80      0.79      0.79     25000\n",
      "\n"
     ]
    },
    {
     "data": {
      "image/png": "[encoded data removed]",
      "text/plain": [
       "<Figure size 640x480 with 2 Axes>"
      ]
     },
     "metadata": {},
     "output_type": "display_data"
    }
   ],
   "source": [
    "from sklearn.metrics import ConfusionMatrixDisplay\n",
    "\n",
    "cm = confusion_matrix(all_labels, all_preds)\n",
    "print(\"Confusion Matrix:\")\n",
    "print(cm)\n",
    "\n",
    "report = classification_report(all_labels, all_preds, target_names=[\"Negative\", \"Positive\"])\n",
    "print(\"\\nClassification Report:\")\n",
    "print(report)\n",
    "\n",
    "import matplotlib.pyplot as plt\n",
    "\n",
    "disp = ConfusionMatrixDisplay(confusion_matrix=cm, display_labels=[\"Negative\", \"Positive\"])\n",
    "disp.plot(cmap=plt.cm.Blues)\n",
    "plt.title(\"Confusion Matrix\")\n",
    "plt.show()"
   ]
  },
  {
   "cell_type": "markdown",
   "metadata": {},
   "source": [
    "# Full Inference"
   ]
  },
  {
   "cell_type": "code",
   "execution_count": 18,
   "metadata": {
    "execution": {
     "iopub.execute_input": "2025-06-25T13:15:25.067156Z",
     "iopub.status.busy": "2025-06-25T13:15:25.066535Z",
     "iopub.status.idle": "2025-06-25T13:15:25.072584Z",
     "shell.execute_reply": "2025-06-25T13:15:25.071911Z",
     "shell.execute_reply.started": "2025-06-25T13:15:25.067132Z"
    },
    "trusted": true
   },
   "outputs": [],
   "source": [
    "def predict_sentiment(text, model, vocab, max_len=128):\n",
    "    model.eval() #enable inference mode\n",
    "    \n",
    "    tokens = re.findall(r\"\\b\\w+\\b\", text.lower())\n",
    "    token_ids = [vocab.get(tok, vocab[\"<UNK>\"]) for tok in tokens]\n",
    "    token_ids = [vocab[\"<CLS>\"]] + token_ids[:max_len - 2] + [vocab[\"<SEP>\"]]\n",
    "    pad_len = max_len - len(token_ids)\n",
    "    token_ids += [vocab[\"<PAD>\"]] * pad_len\n",
    "    \n",
    "    input_tensor = torch.tensor([token_ids]).to(device)\n",
    "    \n",
    "    with torch.no_grad():\n",
    "        logits = model(input_tensor)\n",
    "        prediction = torch.argmax(logits, dim=1).item()\n",
    "    \n",
    "    label_map = {0: \"Negative\", 1: \"Positive\"}\n",
    "    return label_map[prediction]"
   ]
  },
  {
   "cell_type": "code",
   "execution_count": 19,
   "metadata": {
    "execution": {
     "iopub.execute_input": "2025-06-25T13:15:26.678250Z",
     "iopub.status.busy": "2025-06-25T13:15:26.677955Z",
     "iopub.status.idle": "2025-06-25T13:15:26.691370Z",
     "shell.execute_reply": "2025-06-25T13:15:26.690682Z",
     "shell.execute_reply.started": "2025-06-25T13:15:26.678228Z"
    },
    "trusted": true
   },
   "outputs": [
    {
     "name": "stdout",
     "output_type": "stream",
     "text": [
      "Positive\n"
     ]
    }
   ],
   "source": [
    "example = \"The movie was the bets thing i have ever seen!\"\n",
    "print(predict_sentiment(example, model, vocab))"
   ]
  }
 ],
 "metadata": {
  "kaggle": {
   "accelerator": "nvidiaTeslaT4",
   "dataSources": [],
   "dockerImageVersionId": 31041,
   "isGpuEnabled": true,
   "isInternetEnabled": true,
   "language": "python",
   "sourceType": "notebook"
  },
  "kernelspec": {
   "display_name": "Python 3",
   "language": "python",
   "name": "python3"
  },
  "language_info": {
   "codemirror_mode": {
    "name": "ipython",
    "version": 3
   },
   "file_extension": ".py",
   "mimetype": "text/x-python",
   "name": "python",
   "nbconvert_exporter": "python",
   "pygments_lexer": "ipython3",
   "version": "3.11.11"
  }
 },
 "nbformat": 4,
 "nbformat_minor": 4
}
